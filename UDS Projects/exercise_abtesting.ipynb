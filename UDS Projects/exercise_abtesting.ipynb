{
 "cells": [
  {
   "cell_type": "markdown",
   "metadata": {},
   "source": [
    "# A/B Testing the Udacity Website\n",
    "\n",
    "Luopeiwen Yi\n",
    "\n",
    "In these exercises, we'll be analyzing data on user behavior from an experiment run by Udacity, the online education company. More specifically, we'll be looking at a test Udacity ran to improve the onboarding process on their site.\n",
    "\n",
    "Udacity's test is an example of an \"A/B\" test, in which some portion of users visiting a website (or using an app) are randomly selected to see a new version of the site. An analyst can then compare the behavior of users who see a new website design to users seeing their normal website to estimate the effect of rolling out the proposed changes to all users. While this kind of experiment has it's own name in industry (A/B testing), to be clear it's just a randomized experiment, and so everything we've learned about potential outcomes and randomized experiments apply here. \n",
    "\n",
    "(Udacity has generously provides the data from this test under an Apache open-source license, and you can find their [original writeup here](https://www.kaggle.com/tammyrotem/ab-tests-with-python/notebook). If you're interested in learning more on A/B testing in particular, it seems only fair while we use their data to flag they have a full course on the subject [here](https://www.udacity.com/course/ab-testing--ud257).)\n",
    "\n",
    "## Udacity's Test\n",
    "\n",
    "The test [is described by Udacity as follows](https://www.kaggle.com/tammyrotem/ab-tests-with-python/notebook): \n",
    "\n",
    "At the time of this experiment, Udacity courses currently have two options on the course overview page: \"start free trial\", and \"access course materials\".\n",
    "\n",
    "**Current Conditions Before Change**\n",
    "\n",
    "- If the student clicks \"start free trial\", they will be asked to enter their credit card information, and then they will be enrolled in a free trial for the paid version of the course. After 14 days, they will automatically be charged unless they cancel first.\n",
    "- If the student clicks \"access course materials\", they will be able to view the videos and take the quizzes for free, but they will not receive coaching support or a verified certificate, and they will not submit their final project for feedback.\n",
    "\n",
    "**Description of Experimented Change**\n",
    "\n",
    "- In the experiment, Udacity tested a change where if the student clicked \"start free trial\", they were asked how much time they had available to devote to the course.\n",
    "- If the student indicated 5 or more hours per week, they would be taken through the checkout process as usual. If they indicated fewer than 5 hours per week, a message would appear indicating that Udacity courses usually require a greater time commitment for successful completion, and suggesting that the student might like to access the course materials for free.\n",
    "- At this point, the student would have the option to continue enrolling in the free trial, or access the course materials for free instead. This [screenshot](images/udacity_checkyoureready.png) shows what the experiment looks like.\n",
    "\n",
    "**Udacity's Hope is that...**:\n",
    "\n",
    "> this might set clearer expectations for students upfront, thus reducing the number of frustrated students who left the free trial because they didn't have enough time -- without significantly reducing the number of students to continue past the free trial and eventually complete the course. If this hypothesis held true, Udacity could improve the overall student experience and improve coaches' capacity to support students who are likely to complete the course.\n"
   ]
  },
  {
   "cell_type": "markdown",
   "metadata": {},
   "source": [
    "\n",
    "## Gradescope Autograding\n",
    "\n",
    "Please follow [all standard guidance](https://www.practicaldatascience.org/html/autograder_guidelines.html) for submitting this assignment to the Gradescope autograder, including storing your solutions in a dictionary called `results` and ensuring your notebook runs from the start to completion without any errors.\n",
    "\n",
    "For this assignment, please name your file `exercise_abtesting.ipynb` before uploading.\n",
    "\n",
    "You can check that you have answers for all questions in your `results` dictionary with this code:\n",
    "\n",
    "```python\n",
    "assert set(results.keys()) == {\n",
    "    \"ex4_avg_oec\",\n",
    "    \"ex5_avg_guardrail\",\n",
    "    \"ex7_ttest_pvalue\",\n",
    "    \"ex9_ttest_pvalue_clicks\",\n",
    "    \"ex10_num_obs\",\n",
    "    \"ex11_guard_ate\",\n",
    "    \"ex11_guard_pvalue\",\n",
    "    \"ex11_oec_ate\",\n",
    "    \"ex11_oec_pvalue\",\n",
    "    \"ex14_se_treatment\",\n",
    "}\n",
    "```\n",
    "\n",
    "\n",
    "### Submission Limits\n",
    "\n",
    "Please remember that you are **only allowed FOUR submissions to the autograder.** Your last submission (if you submit 4 or fewer times), or your third submission (if you submit more than 4 times) will determine your grade Submissions that error out will **not** count against this total.\n",
    "\n",
    "That's one more than usual in case there are issues with exercise clarity."
   ]
  },
  {
   "cell_type": "code",
   "execution_count": 34,
   "metadata": {},
   "outputs": [],
   "source": [
    "import pandas as pd\n",
    "import numpy as np\n",
    "from scipy.stats import ttest_ind\n",
    "import warnings\n",
    "import statsmodels.api as sm\n",
    "\n",
    "warnings.filterwarnings(\"ignore\")\n",
    "\n",
    "pd.set_option(\"mode.copy_on_write\", True)\n",
    "\n",
    "# Create a results dictionary\n",
    "results = {}"
   ]
  },
  {
   "cell_type": "markdown",
   "metadata": {},
   "source": [
    "## Import the Data"
   ]
  },
  {
   "cell_type": "markdown",
   "metadata": {},
   "source": [
    "### Exercise 1\n",
    "\n",
    "Begin by importing Udacity's data on user behavior [here.](https://github.com/nickeubank/MIDS_Data/tree/master/udacity_AB_testing) \n",
    "\n",
    "There are TWO datasets for this test — one for the control data (users who saw the original design), and one for treatment data (users who saw the experimental design). Udacity decided to show their test site to 1/2 of visitors, so there are roughly the same number of users appearing in each dataset (though this is not a requirement of AB tests).\n",
    "\n",
    "Please remember to load the data directly from github to assist the autograder."
   ]
  },
  {
   "cell_type": "code",
   "execution_count": 35,
   "metadata": {},
   "outputs": [],
   "source": [
    "# import control data\n",
    "control = pd.read_csv(\n",
    "    \"https://media.githubusercontent.com/media/nickeubank/MIDS_Data/master/udacity_AB_testing/control_data.csv\"\n",
    ")\n",
    "\n",
    "# import experiment data\n",
    "experiment = pd.read_csv(\n",
    "    \"https://media.githubusercontent.com/media/nickeubank/MIDS_Data/master/udacity_AB_testing/experiment_data.csv\"\n",
    ")"
   ]
  },
  {
   "cell_type": "code",
   "execution_count": 36,
   "metadata": {},
   "outputs": [
    {
     "data": {
      "text/html": [
       "<div>\n",
       "<style scoped>\n",
       "    .dataframe tbody tr th:only-of-type {\n",
       "        vertical-align: middle;\n",
       "    }\n",
       "\n",
       "    .dataframe tbody tr th {\n",
       "        vertical-align: top;\n",
       "    }\n",
       "\n",
       "    .dataframe thead th {\n",
       "        text-align: right;\n",
       "    }\n",
       "</style>\n",
       "<table border=\"1\" class=\"dataframe\">\n",
       "  <thead>\n",
       "    <tr style=\"text-align: right;\">\n",
       "      <th></th>\n",
       "      <th>Date</th>\n",
       "      <th>Pageviews</th>\n",
       "      <th>Clicks</th>\n",
       "      <th>Enrollments</th>\n",
       "      <th>Payments</th>\n",
       "    </tr>\n",
       "  </thead>\n",
       "  <tbody>\n",
       "    <tr>\n",
       "      <th>0</th>\n",
       "      <td>Sat, Oct 11</td>\n",
       "      <td>7723</td>\n",
       "      <td>687</td>\n",
       "      <td>134.0</td>\n",
       "      <td>70.0</td>\n",
       "    </tr>\n",
       "    <tr>\n",
       "      <th>1</th>\n",
       "      <td>Sun, Oct 12</td>\n",
       "      <td>9102</td>\n",
       "      <td>779</td>\n",
       "      <td>147.0</td>\n",
       "      <td>70.0</td>\n",
       "    </tr>\n",
       "    <tr>\n",
       "      <th>2</th>\n",
       "      <td>Mon, Oct 13</td>\n",
       "      <td>10511</td>\n",
       "      <td>909</td>\n",
       "      <td>167.0</td>\n",
       "      <td>95.0</td>\n",
       "    </tr>\n",
       "    <tr>\n",
       "      <th>3</th>\n",
       "      <td>Tue, Oct 14</td>\n",
       "      <td>9871</td>\n",
       "      <td>836</td>\n",
       "      <td>156.0</td>\n",
       "      <td>105.0</td>\n",
       "    </tr>\n",
       "    <tr>\n",
       "      <th>4</th>\n",
       "      <td>Wed, Oct 15</td>\n",
       "      <td>10014</td>\n",
       "      <td>837</td>\n",
       "      <td>163.0</td>\n",
       "      <td>64.0</td>\n",
       "    </tr>\n",
       "  </tbody>\n",
       "</table>\n",
       "</div>"
      ],
      "text/plain": [
       "          Date  Pageviews  Clicks  Enrollments  Payments\n",
       "0  Sat, Oct 11       7723     687        134.0      70.0\n",
       "1  Sun, Oct 12       9102     779        147.0      70.0\n",
       "2  Mon, Oct 13      10511     909        167.0      95.0\n",
       "3  Tue, Oct 14       9871     836        156.0     105.0\n",
       "4  Wed, Oct 15      10014     837        163.0      64.0"
      ]
     },
     "execution_count": 36,
     "metadata": {},
     "output_type": "execute_result"
    }
   ],
   "source": [
    "control.head()"
   ]
  },
  {
   "cell_type": "code",
   "execution_count": 37,
   "metadata": {},
   "outputs": [
    {
     "data": {
      "text/plain": [
       "Date            0\n",
       "Pageviews       0\n",
       "Clicks          0\n",
       "Enrollments    14\n",
       "Payments       14\n",
       "dtype: int64"
      ]
     },
     "execution_count": 37,
     "metadata": {},
     "output_type": "execute_result"
    }
   ],
   "source": [
    "control.isnull().sum()"
   ]
  },
  {
   "cell_type": "code",
   "execution_count": 38,
   "metadata": {},
   "outputs": [
    {
     "data": {
      "text/html": [
       "<div>\n",
       "<style scoped>\n",
       "    .dataframe tbody tr th:only-of-type {\n",
       "        vertical-align: middle;\n",
       "    }\n",
       "\n",
       "    .dataframe tbody tr th {\n",
       "        vertical-align: top;\n",
       "    }\n",
       "\n",
       "    .dataframe thead th {\n",
       "        text-align: right;\n",
       "    }\n",
       "</style>\n",
       "<table border=\"1\" class=\"dataframe\">\n",
       "  <thead>\n",
       "    <tr style=\"text-align: right;\">\n",
       "      <th></th>\n",
       "      <th>Date</th>\n",
       "      <th>Pageviews</th>\n",
       "      <th>Clicks</th>\n",
       "      <th>Enrollments</th>\n",
       "      <th>Payments</th>\n",
       "    </tr>\n",
       "  </thead>\n",
       "  <tbody>\n",
       "    <tr>\n",
       "      <th>0</th>\n",
       "      <td>Sat, Oct 11</td>\n",
       "      <td>7716</td>\n",
       "      <td>686</td>\n",
       "      <td>105.0</td>\n",
       "      <td>34.0</td>\n",
       "    </tr>\n",
       "    <tr>\n",
       "      <th>1</th>\n",
       "      <td>Sun, Oct 12</td>\n",
       "      <td>9288</td>\n",
       "      <td>785</td>\n",
       "      <td>116.0</td>\n",
       "      <td>91.0</td>\n",
       "    </tr>\n",
       "    <tr>\n",
       "      <th>2</th>\n",
       "      <td>Mon, Oct 13</td>\n",
       "      <td>10480</td>\n",
       "      <td>884</td>\n",
       "      <td>145.0</td>\n",
       "      <td>79.0</td>\n",
       "    </tr>\n",
       "    <tr>\n",
       "      <th>3</th>\n",
       "      <td>Tue, Oct 14</td>\n",
       "      <td>9867</td>\n",
       "      <td>827</td>\n",
       "      <td>138.0</td>\n",
       "      <td>92.0</td>\n",
       "    </tr>\n",
       "    <tr>\n",
       "      <th>4</th>\n",
       "      <td>Wed, Oct 15</td>\n",
       "      <td>9793</td>\n",
       "      <td>832</td>\n",
       "      <td>140.0</td>\n",
       "      <td>94.0</td>\n",
       "    </tr>\n",
       "  </tbody>\n",
       "</table>\n",
       "</div>"
      ],
      "text/plain": [
       "          Date  Pageviews  Clicks  Enrollments  Payments\n",
       "0  Sat, Oct 11       7716     686        105.0      34.0\n",
       "1  Sun, Oct 12       9288     785        116.0      91.0\n",
       "2  Mon, Oct 13      10480     884        145.0      79.0\n",
       "3  Tue, Oct 14       9867     827        138.0      92.0\n",
       "4  Wed, Oct 15       9793     832        140.0      94.0"
      ]
     },
     "execution_count": 38,
     "metadata": {},
     "output_type": "execute_result"
    }
   ],
   "source": [
    "experiment.head()"
   ]
  },
  {
   "cell_type": "code",
   "execution_count": 39,
   "metadata": {},
   "outputs": [
    {
     "data": {
      "text/plain": [
       "Date            0\n",
       "Pageviews       0\n",
       "Clicks          0\n",
       "Enrollments    14\n",
       "Payments       14\n",
       "dtype: int64"
      ]
     },
     "execution_count": 39,
     "metadata": {},
     "output_type": "execute_result"
    }
   ],
   "source": [
    "experiment.isnull().sum()"
   ]
  },
  {
   "cell_type": "markdown",
   "metadata": {},
   "source": [
    "### Exercise 2\n",
    "\n",
    "Explore the data. Can you identify the unit of observation of the data (e.g. what is represented by each row)?\n",
    "\n",
    "(Note this is not the only way that A/B test data can be collected and/or reported — this is just what Udacity provided, presumably to help address privacy concerns.)"
   ]
  },
  {
   "cell_type": "code",
   "execution_count": 40,
   "metadata": {},
   "outputs": [
    {
     "name": "stdout",
     "output_type": "stream",
     "text": [
      "Control dataset shape: (37, 5)\n",
      "Experiment dataset shape: (37, 5)\n",
      "\n",
      "Control dataset descriptive statistics:\n",
      "          Pageviews      Clicks  Enrollments    Payments\n",
      "count     37.000000   37.000000    23.000000   23.000000\n",
      "mean    9339.000000  766.972973   164.565217   88.391304\n",
      "std      740.239563   68.286767    29.977000   20.650202\n",
      "min     7434.000000  632.000000   110.000000   56.000000\n",
      "25%     8896.000000  708.000000   146.500000   70.000000\n",
      "50%     9420.000000  759.000000   162.000000   91.000000\n",
      "75%     9871.000000  825.000000   175.000000  102.500000\n",
      "max    10667.000000  909.000000   233.000000  128.000000\n",
      "\n",
      "Experiment dataset descriptive statistics:\n",
      "          Pageviews      Clicks  Enrollments    Payments\n",
      "count     37.000000   37.000000    23.000000   23.000000\n",
      "mean    9315.135135  765.540541   148.826087   84.565217\n",
      "std      708.070781   64.578374    33.234227   23.060841\n",
      "min     7664.000000  642.000000    94.000000   34.000000\n",
      "25%     8881.000000  722.000000   127.000000   69.000000\n",
      "50%     9359.000000  770.000000   142.000000   91.000000\n",
      "75%     9737.000000  827.000000   172.000000   99.000000\n",
      "max    10551.000000  884.000000   213.000000  123.000000\n"
     ]
    }
   ],
   "source": [
    "# Print the shapes of the datasets\n",
    "print(f\"Control dataset shape: {control.shape}\")\n",
    "print(f\"Experiment dataset shape: {experiment.shape}\")\n",
    "\n",
    "# Print descriptive statistics\n",
    "print(\"\\nControl dataset descriptive statistics:\")\n",
    "print(control.describe())\n",
    "\n",
    "print(\"\\nExperiment dataset descriptive statistics:\")\n",
    "print(experiment.describe())"
   ]
  },
  {
   "cell_type": "markdown",
   "metadata": {},
   "source": [
    "> The unit of observation is the interactions of unique users with the Udacity website in terms of pageviews, clicks, enrollments and payments on a daily basis."
   ]
  },
  {
   "attachments": {},
   "cell_type": "markdown",
   "metadata": {},
   "source": [
    "## Pick your measures"
   ]
  },
  {
   "cell_type": "markdown",
   "metadata": {},
   "source": [
    "### Exercise 3\n",
    "\n",
    "The easiest way to analyze this data is to stack it into a single dataset where each observation is a day-treatment-arm (so you should end up with two rows per day, one for those who are in the treated groups, and one for those who were in the control group). Note that currently nothing in the data identifies whether a given observation is a treatment group observation or a control group observation, so you'll want to make sure to add a \"treatment\" indicator variable.\n",
    "\n",
    "The variables in the data are:\n",
    "\n",
    "- Pageviews: number of unique users visiting homepage\n",
    "- Clicks: number of those users clicking \"Start Free Trial\"\n",
    "- Enrollments: Number of people enrolling in trial\n",
    "- Payments: Number of people who eventually pay for the service. Note the `payment` column reports payments for the users who first visited the site on the reported date, not payments occurring on the reported date."
   ]
  },
  {
   "cell_type": "code",
   "execution_count": 41,
   "metadata": {},
   "outputs": [
    {
     "name": "stdout",
     "output_type": "stream",
     "text": [
      "(74, 6)\n",
      "          Pageviews      Clicks  Enrollments    Payments  treatment\n",
      "count     74.000000   74.000000    46.000000   46.000000  74.000000\n",
      "mean    9327.067568  766.256757   156.695652   86.478261   0.500000\n",
      "std      719.455794   66.005616    32.289571   21.730408   0.503413\n",
      "min     7434.000000  632.000000    94.000000   34.000000   0.000000\n",
      "25%     8891.500000  713.000000   131.750000   70.000000   0.000000\n",
      "50%     9379.500000  768.500000   153.500000   91.000000   0.500000\n",
      "75%     9779.000000  826.500000   175.500000  100.750000   1.000000\n",
      "max    10667.000000  909.000000   233.000000  128.000000   1.000000\n"
     ]
    }
   ],
   "source": [
    "# Add a treatment indicator variable\n",
    "control[\"treatment\"] = 0  # Indicates control group\n",
    "experiment[\"treatment\"] = 1  # Indicates experiment (treatment) group\n",
    "\n",
    "# Combine the two datasets\n",
    "stack_data = pd.concat([control, experiment], ignore_index=True)\n",
    "\n",
    "# Display the shape of the combined dataset and a brief description\n",
    "print(stack_data.shape)\n",
    "print(stack_data.describe())"
   ]
  },
  {
   "cell_type": "code",
   "execution_count": 42,
   "metadata": {},
   "outputs": [
    {
     "data": {
      "text/html": [
       "<div>\n",
       "<style scoped>\n",
       "    .dataframe tbody tr th:only-of-type {\n",
       "        vertical-align: middle;\n",
       "    }\n",
       "\n",
       "    .dataframe tbody tr th {\n",
       "        vertical-align: top;\n",
       "    }\n",
       "\n",
       "    .dataframe thead th {\n",
       "        text-align: right;\n",
       "    }\n",
       "</style>\n",
       "<table border=\"1\" class=\"dataframe\">\n",
       "  <thead>\n",
       "    <tr style=\"text-align: right;\">\n",
       "      <th></th>\n",
       "      <th>Date</th>\n",
       "      <th>Pageviews</th>\n",
       "      <th>Clicks</th>\n",
       "      <th>Enrollments</th>\n",
       "      <th>Payments</th>\n",
       "      <th>treatment</th>\n",
       "    </tr>\n",
       "  </thead>\n",
       "  <tbody>\n",
       "    <tr>\n",
       "      <th>0</th>\n",
       "      <td>Sat, Oct 11</td>\n",
       "      <td>7723</td>\n",
       "      <td>687</td>\n",
       "      <td>134.0</td>\n",
       "      <td>70.0</td>\n",
       "      <td>0</td>\n",
       "    </tr>\n",
       "    <tr>\n",
       "      <th>1</th>\n",
       "      <td>Sun, Oct 12</td>\n",
       "      <td>9102</td>\n",
       "      <td>779</td>\n",
       "      <td>147.0</td>\n",
       "      <td>70.0</td>\n",
       "      <td>0</td>\n",
       "    </tr>\n",
       "    <tr>\n",
       "      <th>2</th>\n",
       "      <td>Mon, Oct 13</td>\n",
       "      <td>10511</td>\n",
       "      <td>909</td>\n",
       "      <td>167.0</td>\n",
       "      <td>95.0</td>\n",
       "      <td>0</td>\n",
       "    </tr>\n",
       "    <tr>\n",
       "      <th>3</th>\n",
       "      <td>Tue, Oct 14</td>\n",
       "      <td>9871</td>\n",
       "      <td>836</td>\n",
       "      <td>156.0</td>\n",
       "      <td>105.0</td>\n",
       "      <td>0</td>\n",
       "    </tr>\n",
       "    <tr>\n",
       "      <th>4</th>\n",
       "      <td>Wed, Oct 15</td>\n",
       "      <td>10014</td>\n",
       "      <td>837</td>\n",
       "      <td>163.0</td>\n",
       "      <td>64.0</td>\n",
       "      <td>0</td>\n",
       "    </tr>\n",
       "  </tbody>\n",
       "</table>\n",
       "</div>"
      ],
      "text/plain": [
       "          Date  Pageviews  Clicks  Enrollments  Payments  treatment\n",
       "0  Sat, Oct 11       7723     687        134.0      70.0          0\n",
       "1  Sun, Oct 12       9102     779        147.0      70.0          0\n",
       "2  Mon, Oct 13      10511     909        167.0      95.0          0\n",
       "3  Tue, Oct 14       9871     836        156.0     105.0          0\n",
       "4  Wed, Oct 15      10014     837        163.0      64.0          0"
      ]
     },
     "execution_count": 42,
     "metadata": {},
     "output_type": "execute_result"
    }
   ],
   "source": [
    "stack_data.head()"
   ]
  },
  {
   "attachments": {},
   "cell_type": "markdown",
   "metadata": {},
   "source": [
    "### Exercise 4\n",
    "\n",
    "Given Udacity's goals, what outcome are they hoping will be impacted by their manipulation?\n",
    "\n",
    "Or, to ask the same question in the language of the Potential Outcomes Framework, what is their $Y$?\n",
    "\n",
    "Or to ask the same question in the language of Kohavi, Tang and Xu, what is their *Overall Evaluation Criterion (OEC)*?\n",
    "\n",
    "(I'm only asking one question, I'm just trying to phrase it using different terminologies we've encountered to help you see how they all fit together)\n",
    "\n",
    "When you feel like you have your answer, please compute it. Store the average value of the variable in `results` under the key `ex4_avg_oec`. **Please round your answer to 4 decimal places.**\n",
    "\n",
    "NOTE: You'll probably notice you have two choices to make when it comes to actually computing the OEC. \n",
    "\n",
    "- You could probably imagine either computing a ratio or a difference of two things — please calculate the difference.\n",
    "- You may also be unsure whether to normalize by `Clicks`. Normalizing by clicks will help account for variation that comes from day-to-day variation in users, so it's a good thing to do. With infinite data, you'd expect to get the same results without normalizing by `Clicks` (since on average the same share of users are in each arm of the experiment), but for finite data it's a good strategy. Note that this is only ok because users make the choice to click or not *before* they see different versions of the website (it is \"pre-treatment\").\n",
    "\n",
    "Just to make sure you're on track, your measure should have an average value of *about* 9%."
   ]
  },
  {
   "cell_type": "code",
   "execution_count": 43,
   "metadata": {},
   "outputs": [
    {
     "name": "stdout",
     "output_type": "stream",
     "text": [
      "The overall average OEC is around 9.41%.\n"
     ]
    }
   ],
   "source": [
    "# Calculate the OEC for each row in the dataset\n",
    "stack_data[\"OEC\"] = (stack_data[\"Enrollments\"] - stack_data[\"Payments\"]) / stack_data[\n",
    "    \"Clicks\"\n",
    "]\n",
    "\n",
    "# Calculate the overall average OEC across all data\n",
    "overall_avg_oec = stack_data[\"OEC\"].mean()\n",
    "\n",
    "# Converting the overall average OEC to a percentage and rounding to 4 decimal places\n",
    "overall_avg_oec_percentage = round(overall_avg_oec * 100, 2)\n",
    "\n",
    "results[\"ex4_avg_oec\"] = round(overall_avg_oec, 4)\n",
    "\n",
    "# Print the overall average OEC as a percentage\n",
    "print(f\"The overall average OEC is around {overall_avg_oec_percentage}%.\")"
   ]
  },
  {
   "cell_type": "markdown",
   "metadata": {},
   "source": [
    "> Given Udacity's goals, they are aiming to impact the ratio of users who enroll in the free trial and then proceed to make a payment, by reducing the number of frustrated students who left the free trial because they didn't have enough time, without significantly reducing the number of students who continue past the free trial and eventually complete the course. The $Y$, or OEC, is the difference between enrollments and payments normalized by the number of clicks, which is a measure of how many users who enrolled did not proceed to make a payment."
   ]
  },
  {
   "attachments": {},
   "cell_type": "markdown",
   "metadata": {},
   "source": [
    "### Exercise 5\n",
    "\n",
    "Given Udacity's goals, what outcome are they hoping will *not* be impacted by their manipulation? In other words, what do they want to measure to ensure their treatment doesn't have unintended negative consequences that might be really costly to their operation?\n",
    "\n",
    "Note that while this isn't how Kohavi, Tang, and Xu use the term \"guardrail metrics\" — they usually use the term to refer to things we measure to ensure the experiment is working the way it should — some people would also use the term \"guardrail metrics\" for something that could be impacted even if the experiment is working correctly, but which the organization wants to track to ensure they aren't impacted because they are deemed really important.\n",
    "\n",
    "Again, please normalize by `Clicks`. Store the average value of this guardrail metric as `ex5_avg_guardrail` and **round your answer to 4 decimal places.**"
   ]
  },
  {
   "cell_type": "markdown",
   "metadata": {},
   "source": [
    "> The outcome Udacity hopes that will not be impacted by their manipulation is number of payments because they want to enhance the student experience by setting clearer expectations without reducing the overall number of students who decide to pay after the free trial. The guardrail metric is payments-to-clicks ratio."
   ]
  },
  {
   "cell_type": "code",
   "execution_count": 44,
   "metadata": {},
   "outputs": [
    {
     "name": "stdout",
     "output_type": "stream",
     "text": [
      "The average Payments-to-Clicks ratio is around 11.58%.\n"
     ]
    }
   ],
   "source": [
    "# Calculate the Payments-to-Clicks ratio for each row in the dataset\n",
    "stack_data[\"Payments_to_Clicks\"] = stack_data[\"Payments\"] / stack_data[\"Clicks\"]\n",
    "\n",
    "# Compute the average Payments-to-Clicks ratio across all data\n",
    "avg_payments_to_clicks = stack_data[\"Payments_to_Clicks\"].mean()\n",
    "\n",
    "# Rounding the average to 4 decimal places\n",
    "avg_payments_to_clicks_rounded = round(avg_payments_to_clicks * 100, 2)\n",
    "\n",
    "results[\"ex5_avg_guardrail\"] = round(avg_payments_to_clicks, 4)\n",
    "\n",
    "print(\n",
    "    f\"The average Payments-to-Clicks ratio is around {avg_payments_to_clicks_rounded}%.\"\n",
    ")"
   ]
  },
  {
   "cell_type": "markdown",
   "metadata": {},
   "source": [
    "## Validating The Data"
   ]
  },
  {
   "attachments": {},
   "cell_type": "markdown",
   "metadata": {},
   "source": [
    "### Exercise 6\n",
    "\n",
    "Whenever you are working with experimental data, the first thing you want to do is verify that users actually were randomly sorted into the two arms of the experiment. In this data, half of users were supposed to be shown the old version of the site and half were supposed to see the new version.\n",
    "\n",
    "`Pageviews` tells you how many unique users visited the welcome site we are experimenting on. `Pageviews` is what is sometimes called an \"invariant\" or \"guardrail\" variable, meaning that it shouldn't vary across treatment arms—after all, people have to visit the site before they get a chance to see the treatment, so there's no way that being assigned to treatment or control should affect the number of pageviews assigned to each group.\n",
    "\n",
    "\"Invariant\" variables are also an example of what are known as a \"pre-treatment\" variable, because pageviews are determined before users are manipulated in any way. That makes it analogous to gender or age in experiments where you have demographic data—a person's age and gender are determined before they experience any manipulations, so the value of any pre-treatment attributes should be the same across the two arms of our experiment. This is what we've previously called \"checking for balance,\" If pre-treatment attributes aren't balanced, then we may worry our attempt to randomly assign people to different groups failed.  Kohavi, Tang and Xu call this a \"trust-based guardrail metric\" because it helps us determine if we should trust our data.\n",
    "\n",
    "To test the quality of the randomization, calculate the average number of pageviews for the treated group and for the control group. Do they look similar?"
   ]
  },
  {
   "cell_type": "code",
   "execution_count": 45,
   "metadata": {},
   "outputs": [
    {
     "name": "stdout",
     "output_type": "stream",
     "text": [
      "Average pageviews for control group is around 9339.0. Average pageviews for experiment group is around 9315.1351\n"
     ]
    }
   ],
   "source": [
    "# Calculate the average number of pageviews for the control and experiment groups\n",
    "avg_pageviews_control = stack_data[stack_data[\"treatment\"] == 0][\"Pageviews\"].mean()\n",
    "avg_pageviews_experiment = stack_data[stack_data[\"treatment\"] == 1][\"Pageviews\"].mean()\n",
    "\n",
    "print(\n",
    "    f\"Average pageviews for control group is around {round(avg_pageviews_control,4)}. Average pageviews for experiment group is around {round(avg_pageviews_experiment,4)}\"\n",
    ")"
   ]
  },
  {
   "cell_type": "markdown",
   "metadata": {},
   "source": [
    "> The average number of pageviews for the treated group and for the control group are very similar. The difference between the two averages is very small."
   ]
  },
  {
   "attachments": {},
   "cell_type": "markdown",
   "metadata": {},
   "source": [
    "### Exercise 7\n",
    "\n",
    "\"Similar\" is a tricky concept -- obviously, we expect *some* differences across groups since users were *randomly* divided across treatment arms. The question is whether the differences between groups are larger than we'd expect to emerge given our random assignment process. To evaluate this, let's use a `ttest` to test the statistical significance of the differences we see. \n",
    "\n",
    "**Note**: Remember that scipy functions don't accept `pandas` objects, so you use a scipy function, you have to pass the numpy vectors underlying your data with the `.values` operator (e.g. `df.my_column.values`). \n",
    "\n",
    "Does the difference in `pageviews` look statistically significant?\n",
    "\n",
    "Store the resulting p-value in `ex7_ttest_pvalue` **rounded to four decimal places.**"
   ]
  },
  {
   "cell_type": "code",
   "execution_count": 46,
   "metadata": {},
   "outputs": [
    {
     "name": "stdout",
     "output_type": "stream",
     "text": [
      "Performing a t-test to compare the pageviews between the control and experiment groups:\n"
     ]
    },
    {
     "data": {
      "text/plain": [
       "TtestResult(statistic=0.14171182982874964, pvalue=0.8877034068650902, df=72.0)"
      ]
     },
     "execution_count": 46,
     "metadata": {},
     "output_type": "execute_result"
    }
   ],
   "source": [
    "# Extract the numpy vectors for pageviews from both groups\n",
    "pageviews_control = stack_data[stack_data[\"treatment\"] == 0][\"Pageviews\"].values\n",
    "pageviews_experiment = stack_data[stack_data[\"treatment\"] == 1][\"Pageviews\"].values\n",
    "\n",
    "# Perform a t-test on pageviews\n",
    "ttest_result_pageviews = ttest_ind(pageviews_control, pageviews_experiment)\n",
    "print(\n",
    "    \"Performing a t-test to compare the pageviews between the control and experiment groups:\"\n",
    ")\n",
    "ttest_result_pageviews"
   ]
  },
  {
   "cell_type": "code",
   "execution_count": 47,
   "metadata": {},
   "outputs": [
    {
     "name": "stdout",
     "output_type": "stream",
     "text": [
      "The p-value from the t-test on pageviews between control and experiment groups is: 0.8877\n"
     ]
    }
   ],
   "source": [
    "# Store the p-value, rounded to four decimal places\n",
    "ex7_ttest_pvalue = round(ttest_result_pageviews.pvalue, 4)\n",
    "\n",
    "results[\"ex7_ttest_pvalue\"] = ex7_ttest_pvalue\n",
    "\n",
    "print(\n",
    "    f\"The p-value from the t-test on pageviews between control and experiment groups is: {ex7_ttest_pvalue}\"\n",
    ")"
   ]
  },
  {
   "cell_type": "markdown",
   "metadata": {},
   "source": [
    "> The difference in pageviews does not look statistically significant because p value > 0.05. "
   ]
  },
  {
   "attachments": {},
   "cell_type": "markdown",
   "metadata": {},
   "source": [
    "### Exercise 8\n",
    "\n",
    "`Pageviews` is not the only \"pre-treatment\" variable in this data we can use to evaluate balance/use as a guardrail metric. What other measure is pre-treatment? Review the description of the experiment if you're not sure."
   ]
  },
  {
   "cell_type": "markdown",
   "metadata": {},
   "source": [
    "> Clicks is another pre-treatment variable. Clicks, which measures the number of those users clicking \"Start Free Trial\", happens before users get a chance to see the treatments. "
   ]
  },
  {
   "attachments": {},
   "cell_type": "markdown",
   "metadata": {},
   "source": [
    "### Exercise 9\n",
    "\n",
    "Check if the other pre-treatment variable is also balanced. Store the p-value of your test of difference in `results` under the key `\"ex9_ttest_pvalue_clicks\"` **rounded to four decimal places.**t"
   ]
  },
  {
   "cell_type": "code",
   "execution_count": 48,
   "metadata": {},
   "outputs": [
    {
     "name": "stdout",
     "output_type": "stream",
     "text": [
      "Average clicks for control group is around 766.973. Average clicks for experiment group is around 765.5405\n"
     ]
    }
   ],
   "source": [
    "# Calculate the average number of pageviews for the control and experiment groups\n",
    "avg_clicks_control = stack_data[stack_data[\"treatment\"] == 0][\"Clicks\"].mean()\n",
    "avg_clicks_experiment = stack_data[stack_data[\"treatment\"] == 1][\"Clicks\"].mean()\n",
    "\n",
    "print(\n",
    "    f\"Average clicks for control group is around {round(avg_clicks_control,4)}. Average clicks for experiment group is around {round(avg_clicks_experiment,4)}\"\n",
    ")"
   ]
  },
  {
   "cell_type": "code",
   "execution_count": 49,
   "metadata": {},
   "outputs": [
    {
     "name": "stdout",
     "output_type": "stream",
     "text": [
      "Performing a t-test to compare the clicks between the control and experiment groups:\n"
     ]
    },
    {
     "data": {
      "text/plain": [
       "TtestResult(statistic=0.09270642968639531, pvalue=0.9263942642482703, df=72.0)"
      ]
     },
     "execution_count": 49,
     "metadata": {},
     "output_type": "execute_result"
    }
   ],
   "source": [
    "# Extract the numpy vectors for clicks from both groups\n",
    "clicks_control = stack_data[stack_data[\"treatment\"] == 0][\"Clicks\"].values\n",
    "clicks_experiment = stack_data[stack_data[\"treatment\"] == 1][\"Clicks\"].values\n",
    "\n",
    "# Perform a t-test on  clicks\n",
    "ttest_result_clicks = ttest_ind(clicks_control, clicks_experiment)\n",
    "print(\n",
    "    \"Performing a t-test to compare the clicks between the control and experiment groups:\"\n",
    ")\n",
    "ttest_result_clicks"
   ]
  },
  {
   "cell_type": "code",
   "execution_count": 50,
   "metadata": {},
   "outputs": [
    {
     "name": "stdout",
     "output_type": "stream",
     "text": [
      "The p-value from the t-test on clicks between control and experiment groups is: 0.9264\n"
     ]
    }
   ],
   "source": [
    "# Store the p-value, rounded to four decimal places\n",
    "ex9_ttest_pvalue_clicks = round(ttest_result_clicks.pvalue, 4)\n",
    "results[\"ex9_ttest_pvalue_clicks\"] = ex9_ttest_pvalue_clicks\n",
    "\n",
    "print(\n",
    "    f\"The p-value from the t-test on clicks between control and experiment groups is: {ex9_ttest_pvalue_clicks}\"\n",
    ")"
   ]
  },
  {
   "cell_type": "markdown",
   "metadata": {},
   "source": [
    "> - The average number of clicks for the treated group and for the control group are very similar. The difference between the two averages is minimal.\n",
    ">- The difference in Clicks does not look statistically significant because p value > 0.05. \n",
    ">- The Clicks variable is balanced. "
   ]
  },
  {
   "attachments": {},
   "cell_type": "markdown",
   "metadata": {},
   "source": [
    "## Estimating the Effect of Experiment\n",
    "\n",
    "### Exercise 10\n",
    "\n",
    "Now that we've validated our randomization, our next task is to estimate our treatment effect. First, though, there's an issue with your data you've been able to largely ignore until now, but which you should get a grip on before estimating your treatment effect — can you tell what it is and what you should do about it?\n",
    "\n",
    "Store the number of observations in your data *after* you've addressed this in `ex10_num_obs` (this is mostly meant as a way to sanity check your answer with autograder)."
   ]
  },
  {
   "cell_type": "code",
   "execution_count": 51,
   "metadata": {},
   "outputs": [
    {
     "name": "stdout",
     "output_type": "stream",
     "text": [
      "Missing values in each column:\n",
      "Date                   0\n",
      "Pageviews              0\n",
      "Clicks                 0\n",
      "Enrollments           28\n",
      "Payments              28\n",
      "treatment              0\n",
      "OEC                   28\n",
      "Payments_to_Clicks    28\n",
      "dtype: int64\n"
     ]
    }
   ],
   "source": [
    "# Checking for missing values in the dataset\n",
    "missing_values = stack_data.isnull().sum()\n",
    "\n",
    "print(f\"Missing values in each column:\\n{missing_values}\")"
   ]
  },
  {
   "cell_type": "markdown",
   "metadata": {},
   "source": [
    "> The issue with the data is the presence of missing values in the Enrollments and Payments columns. To address this issue, I can remove observations with missing values since these observations cannot contribute to the analysis of conversion rates or payment rates."
   ]
  },
  {
   "cell_type": "code",
   "execution_count": 52,
   "metadata": {},
   "outputs": [
    {
     "name": "stdout",
     "output_type": "stream",
     "text": [
      "The number of observations after addressing missing values is 46.\n"
     ]
    }
   ],
   "source": [
    "# Remove observations with missing values in the 'Enrollments' or 'Payments' columns\n",
    "stack_data_new = stack_data.dropna(subset=[\"Enrollments\", \"Payments\"])\n",
    "\n",
    "# Display the number of observations after addressing missing values\n",
    "ex10_num_obs = stack_data_new.shape[0]\n",
    "\n",
    "results[\"ex10_num_obs\"] = ex10_num_obs\n",
    "\n",
    "print(f\"The number of observations after addressing missing values is {ex10_num_obs}.\")"
   ]
  },
  {
   "cell_type": "markdown",
   "metadata": {},
   "source": [
    "\n",
    "### Exercise 11\n",
    "\n",
    "Now that we've established we have good balance (meaning we think randomization was likely successful), we can evaluate the effects of the experiment. Test whether the OEC and the metric you *don't* want affected have different average values in the control group and treatment group. \n",
    "\n",
    "Because we've randomized, this is a consistent estimate of the Average Treatment Effect of Udacity's website change.\n",
    "\n",
    "Calculate the difference in means in your OEC and guardrail metrics using a simple t-test. Store the resulting effect estimates in `ex11_oec_ate` and `ex11_guard_ate` and p-values in `ex11_oec_pvalue` and `ex11_guard_pvalue`. **Please round all answers to 4 decimal places.** Report your ATE in *percentage points*, where `1` denotes 1 percentage point.\n"
   ]
  },
  {
   "cell_type": "code",
   "execution_count": 53,
   "metadata": {},
   "outputs": [],
   "source": [
    "# Separating control and experiment groups for OEC and payment_to_clicks\n",
    "oec_control = stack_data_new[stack_data_new[\"treatment\"] == 0][\"OEC\"]\n",
    "oec_experiment = stack_data_new[stack_data_new[\"treatment\"] == 1][\"OEC\"]\n",
    "payment_to_clicks_control = stack_data_new[stack_data_new[\"treatment\"] == 0][\n",
    "    \"Payments_to_Clicks\"\n",
    "]\n",
    "payment_to_clicks_experiment = stack_data_new[stack_data_new[\"treatment\"] == 1][\n",
    "    \"Payments_to_Clicks\"\n",
    "]"
   ]
  },
  {
   "cell_type": "code",
   "execution_count": 54,
   "metadata": {},
   "outputs": [
    {
     "name": "stdout",
     "output_type": "stream",
     "text": [
      "Performing a t-test to compare the OEC between the control and experiment groups:\n"
     ]
    },
    {
     "data": {
      "text/plain": [
       "TtestResult(statistic=1.5350318294600591, pvalue=0.1319361736551665, df=44.0)"
      ]
     },
     "execution_count": 54,
     "metadata": {},
     "output_type": "execute_result"
    }
   ],
   "source": [
    "# T-tests for OEC\n",
    "ttest_result_oec = ttest_ind(oec_control, oec_experiment)\n",
    "\n",
    "print(\n",
    "    \"Performing a t-test to compare the OEC between the control and experiment groups:\"\n",
    ")\n",
    "\n",
    "ttest_result_oec"
   ]
  },
  {
   "cell_type": "code",
   "execution_count": 55,
   "metadata": {},
   "outputs": [
    {
     "name": "stdout",
     "output_type": "stream",
     "text": [
      "Performing a t-test to compare the payments to clicks between the control and experiment groups:\n"
     ]
    },
    {
     "data": {
      "text/plain": [
       "TtestResult(statistic=0.5387777625331603, pvalue=0.5927558614268024, df=44.0)"
      ]
     },
     "execution_count": 55,
     "metadata": {},
     "output_type": "execute_result"
    }
   ],
   "source": [
    "# T-tests for payment_to_clicks\n",
    "ttest_result_payment_to_clicks = ttest_ind(\n",
    "    payment_to_clicks_control, payment_to_clicks_experiment\n",
    ")\n",
    "\n",
    "print(\n",
    "    \"Performing a t-test to compare the payments to clicks between the control and experiment groups:\"\n",
    ")\n",
    "\n",
    "ttest_result_payment_to_clicks"
   ]
  },
  {
   "cell_type": "code",
   "execution_count": 56,
   "metadata": {},
   "outputs": [
    {
     "name": "stdout",
     "output_type": "stream",
     "text": [
      "The Average Treatment Effects (ATE) of Udacity's website change for OEC is around -1.5888%\n"
     ]
    }
   ],
   "source": [
    "# Average Treatment Effects (ATE) for OEC\n",
    "ex11_oec_ate = (oec_experiment.mean() - oec_control.mean()) * 100\n",
    "\n",
    "results[\"ex11_oec_ate\"] = round(abs(ex11_oec_ate), 4)\n",
    "print(\n",
    "    f\"The Average Treatment Effects (ATE) of Udacity's website change for OEC is around {round(ex11_oec_ate, 4)}%\"\n",
    ")"
   ]
  },
  {
   "cell_type": "code",
   "execution_count": 57,
   "metadata": {},
   "outputs": [
    {
     "name": "stdout",
     "output_type": "stream",
     "text": [
      "The Average Treatment Effects (ATE) of Udacity's website change for payment_to_clicks is around -0.4897%\n"
     ]
    }
   ],
   "source": [
    "# Average Treatment Effects (ATE) for payment_to_clicks\n",
    "ex11_guard_ate = (\n",
    "    payment_to_clicks_experiment.mean() - payment_to_clicks_control.mean()\n",
    ") * 100\n",
    "\n",
    "results[\"ex11_guard_ate\"] = round(abs(ex11_guard_ate), 4)\n",
    "print(\n",
    "    f\"The Average Treatment Effects (ATE) of Udacity's website change for payment_to_clicks is around {round(ex11_guard_ate, 4)}%\"\n",
    ")"
   ]
  },
  {
   "cell_type": "code",
   "execution_count": 58,
   "metadata": {},
   "outputs": [
    {
     "name": "stdout",
     "output_type": "stream",
     "text": [
      "The p-value from the t-test on OEC between control and experiment groups is: 0.1319\n",
      "The p-value from the t-test on payment_to_clicks between control and experiment groups is: 0.5928\n"
     ]
    }
   ],
   "source": [
    "# p_value for OEC\n",
    "ex11_oec_pvalue = round(ttest_result_oec.pvalue, 4)\n",
    "\n",
    "results[\"ex11_oec_pvalue\"] = ex11_oec_pvalue\n",
    "print(\n",
    "    f\"The p-value from the t-test on OEC between control and experiment groups is: {ex11_oec_pvalue}\"\n",
    ")\n",
    "\n",
    "# p_value for payment_to_clicks\n",
    "ex11_guard_pvalue = round(ttest_result_payment_to_clicks.pvalue, 4)\n",
    "\n",
    "results[\"ex11_guard_pvalue\"] = ex11_guard_pvalue\n",
    "print(\n",
    "    f\"The p-value from the t-test on payment_to_clicks between control and experiment groups is: {ex11_guard_pvalue}\"\n",
    ")"
   ]
  },
  {
   "cell_type": "markdown",
   "metadata": {},
   "source": [
    "### Exercise 12\n",
    "\n",
    "Do you feel that Udacity achieved their goal? Did their intervention cause them any problems? If they asked you \"What would happen if we rolled this out to everyone?\" what would you say?\n",
    "\n",
    "As you answer this question, a small additional question: up until this point you've (presumably) been reporting the default p-values from the tools you are using. These, as you may recall from stats 101, are two-tailed p-values. Do those seem appropriate for your OEC?"
   ]
  },
  {
   "cell_type": "markdown",
   "metadata": {},
   "source": [
    ">- I don't think Udacity achieved their goal. The Average Treatment Effect (ATE) for the OEC is −1.5888%, suggesting a decrease in the gap between enrollments and payments when normalized by the number of clicks, which could indicate a higher enrollment to payment conversion rate. However, the change in OEC is not statistically significant since p-value > 0.05, indicating that the observed differences might have occurred by chance.\n",
    ">- I don't think the intervention cause them any problems. The ATE for the payment to clicks ratio is -0.4897%, showing a minor decrease in the proportion of clicks leading to payments. However, the change in payment to clicks ratio is not statistically significant since p-value > 0.05, indicating that the observed differences might have occurred by chance.\n",
    ">- If asked about rolling this out to everyone, I would say I'm not sure what the impact would be and we should be cautious. The intervention doesn't show a statistically significant negative impact on payment to clicks, but it doesn't show a statistically significant positive impact on OEC either. Further analysis might be needed to understand the lack of statistically significant improvement and whether other metrics or qualitative feedback suggest the change improves the student experience or aligns with Udacity's long-term goals.\n",
    ">- The use of two-tailed p-values is standard when we are open to finding effects in both directions (either positive or negative impacts). However, for the OEC, where Udacity has a specific direction of improvement in mind (i.e., reducing the gap between enrollments and payments without decreasing the overall conversion), a one-tailed p-value might be more appropriate. This would test the hypothesis that the treatment effect is in a specific direction (improvement) rather than any change. "
   ]
  },
  {
   "attachments": {},
   "cell_type": "markdown",
   "metadata": {},
   "source": [
    "### Exercise 13\n",
    "\n",
    "One of the magic things about experiments is that all you have to do is compare averages to get an average treatment effect. However, you *can* do other things to try and increase the statistical power of your experiments, like add controls in a linear regression model. \n",
    "\n",
    "As you likely know, a bivariate regression is exactly equivalent to a t-test, so let's start by re-estimating the effect of treatment on your OEC using a linear regression. Can you replicate the results from your t-test? They shouldn't just be close—they should be numerically equivalent (i.e. exactly the same to the limits of floating point number precision). "
   ]
  },
  {
   "cell_type": "code",
   "execution_count": 59,
   "metadata": {},
   "outputs": [
    {
     "data": {
      "text/html": [
       "<table class=\"simpletable\">\n",
       "<caption>OLS Regression Results</caption>\n",
       "<tr>\n",
       "  <th>Dep. Variable:</th>           <td>OEC</td>       <th>  R-squared:         </th> <td>   0.051</td>\n",
       "</tr>\n",
       "<tr>\n",
       "  <th>Model:</th>                   <td>OLS</td>       <th>  Adj. R-squared:    </th> <td>   0.029</td>\n",
       "</tr>\n",
       "<tr>\n",
       "  <th>Method:</th>             <td>Least Squares</td>  <th>  F-statistic:       </th> <td>   2.356</td>\n",
       "</tr>\n",
       "<tr>\n",
       "  <th>Date:</th>             <td>Wed, 27 Mar 2024</td> <th>  Prob (F-statistic):</th>  <td> 0.132</td> \n",
       "</tr>\n",
       "<tr>\n",
       "  <th>Time:</th>                 <td>19:47:00</td>     <th>  Log-Likelihood:    </th> <td>  89.832</td>\n",
       "</tr>\n",
       "<tr>\n",
       "  <th>No. Observations:</th>      <td>    46</td>      <th>  AIC:               </th> <td>  -175.7</td>\n",
       "</tr>\n",
       "<tr>\n",
       "  <th>Df Residuals:</th>          <td>    44</td>      <th>  BIC:               </th> <td>  -172.0</td>\n",
       "</tr>\n",
       "<tr>\n",
       "  <th>Df Model:</th>              <td>     1</td>      <th>                     </th>     <td> </td>   \n",
       "</tr>\n",
       "<tr>\n",
       "  <th>Covariance Type:</th>      <td>nonrobust</td>    <th>                     </th>     <td> </td>   \n",
       "</tr>\n",
       "</table>\n",
       "<table class=\"simpletable\">\n",
       "<tr>\n",
       "      <td></td>         <th>coef</th>     <th>std err</th>      <th>t</th>      <th>P>|t|</th>  <th>[0.025</th>    <th>0.975]</th>  \n",
       "</tr>\n",
       "<tr>\n",
       "  <th>const</th>     <td>    0.1021</td> <td>    0.007</td> <td>   13.948</td> <td> 0.000</td> <td>    0.087</td> <td>    0.117</td>\n",
       "</tr>\n",
       "<tr>\n",
       "  <th>treatment</th> <td>   -0.0159</td> <td>    0.010</td> <td>   -1.535</td> <td> 0.132</td> <td>   -0.037</td> <td>    0.005</td>\n",
       "</tr>\n",
       "</table>\n",
       "<table class=\"simpletable\">\n",
       "<tr>\n",
       "  <th>Omnibus:</th>       <td>14.160</td> <th>  Durbin-Watson:     </th> <td>   1.908</td>\n",
       "</tr>\n",
       "<tr>\n",
       "  <th>Prob(Omnibus):</th> <td> 0.001</td> <th>  Jarque-Bera (JB):  </th> <td>  15.205</td>\n",
       "</tr>\n",
       "<tr>\n",
       "  <th>Skew:</th>          <td> 1.227</td> <th>  Prob(JB):          </th> <td>0.000499</td>\n",
       "</tr>\n",
       "<tr>\n",
       "  <th>Kurtosis:</th>      <td> 4.383</td> <th>  Cond. No.          </th> <td>    2.62</td>\n",
       "</tr>\n",
       "</table><br/><br/>Notes:<br/>[1] Standard Errors assume that the covariance matrix of the errors is correctly specified."
      ],
      "text/latex": [
       "\\begin{center}\n",
       "\\begin{tabular}{lclc}\n",
       "\\toprule\n",
       "\\textbf{Dep. Variable:}    &       OEC        & \\textbf{  R-squared:         } &     0.051   \\\\\n",
       "\\textbf{Model:}            &       OLS        & \\textbf{  Adj. R-squared:    } &     0.029   \\\\\n",
       "\\textbf{Method:}           &  Least Squares   & \\textbf{  F-statistic:       } &     2.356   \\\\\n",
       "\\textbf{Date:}             & Wed, 27 Mar 2024 & \\textbf{  Prob (F-statistic):} &    0.132    \\\\\n",
       "\\textbf{Time:}             &     19:47:00     & \\textbf{  Log-Likelihood:    } &    89.832   \\\\\n",
       "\\textbf{No. Observations:} &          46      & \\textbf{  AIC:               } &    -175.7   \\\\\n",
       "\\textbf{Df Residuals:}     &          44      & \\textbf{  BIC:               } &    -172.0   \\\\\n",
       "\\textbf{Df Model:}         &           1      & \\textbf{                     } &             \\\\\n",
       "\\textbf{Covariance Type:}  &    nonrobust     & \\textbf{                     } &             \\\\\n",
       "\\bottomrule\n",
       "\\end{tabular}\n",
       "\\begin{tabular}{lcccccc}\n",
       "                   & \\textbf{coef} & \\textbf{std err} & \\textbf{t} & \\textbf{P$> |$t$|$} & \\textbf{[0.025} & \\textbf{0.975]}  \\\\\n",
       "\\midrule\n",
       "\\textbf{const}     &       0.1021  &        0.007     &    13.948  &         0.000        &        0.087    &        0.117     \\\\\n",
       "\\textbf{treatment} &      -0.0159  &        0.010     &    -1.535  &         0.132        &       -0.037    &        0.005     \\\\\n",
       "\\bottomrule\n",
       "\\end{tabular}\n",
       "\\begin{tabular}{lclc}\n",
       "\\textbf{Omnibus:}       & 14.160 & \\textbf{  Durbin-Watson:     } &    1.908  \\\\\n",
       "\\textbf{Prob(Omnibus):} &  0.001 & \\textbf{  Jarque-Bera (JB):  } &   15.205  \\\\\n",
       "\\textbf{Skew:}          &  1.227 & \\textbf{  Prob(JB):          } & 0.000499  \\\\\n",
       "\\textbf{Kurtosis:}      &  4.383 & \\textbf{  Cond. No.          } &     2.62  \\\\\n",
       "\\bottomrule\n",
       "\\end{tabular}\n",
       "%\\caption{OLS Regression Results}\n",
       "\\end{center}\n",
       "\n",
       "Notes: \\newline\n",
       " [1] Standard Errors assume that the covariance matrix of the errors is correctly specified."
      ],
      "text/plain": [
       "<class 'statsmodels.iolib.summary.Summary'>\n",
       "\"\"\"\n",
       "                            OLS Regression Results                            \n",
       "==============================================================================\n",
       "Dep. Variable:                    OEC   R-squared:                       0.051\n",
       "Model:                            OLS   Adj. R-squared:                  0.029\n",
       "Method:                 Least Squares   F-statistic:                     2.356\n",
       "Date:                Wed, 27 Mar 2024   Prob (F-statistic):              0.132\n",
       "Time:                        19:47:00   Log-Likelihood:                 89.832\n",
       "No. Observations:                  46   AIC:                            -175.7\n",
       "Df Residuals:                      44   BIC:                            -172.0\n",
       "Df Model:                           1                                         \n",
       "Covariance Type:            nonrobust                                         \n",
       "==============================================================================\n",
       "                 coef    std err          t      P>|t|      [0.025      0.975]\n",
       "------------------------------------------------------------------------------\n",
       "const          0.1021      0.007     13.948      0.000       0.087       0.117\n",
       "treatment     -0.0159      0.010     -1.535      0.132      -0.037       0.005\n",
       "==============================================================================\n",
       "Omnibus:                       14.160   Durbin-Watson:                   1.908\n",
       "Prob(Omnibus):                  0.001   Jarque-Bera (JB):               15.205\n",
       "Skew:                           1.227   Prob(JB):                     0.000499\n",
       "Kurtosis:                       4.383   Cond. No.                         2.62\n",
       "==============================================================================\n",
       "\n",
       "Notes:\n",
       "[1] Standard Errors assume that the covariance matrix of the errors is correctly specified.\n",
       "\"\"\""
      ]
     },
     "execution_count": 59,
     "metadata": {},
     "output_type": "execute_result"
    }
   ],
   "source": [
    "# Prepare the independent variables (add a constant term for the intercept)\n",
    "X = sm.add_constant(stack_data_new[\"treatment\"])\n",
    "# Prepare the dependent variable - OEC\n",
    "y = stack_data_new[\"OEC\"]\n",
    "\n",
    "# Fit the linear regression model\n",
    "lr_model = sm.OLS(y, X).fit()\n",
    "\n",
    "# Display the model summary to replicate the t-test results through linear regression\n",
    "linear_regression_model_summary = lr_model.summary()\n",
    "linear_regression_model_summary"
   ]
  },
  {
   "cell_type": "code",
   "execution_count": 60,
   "metadata": {},
   "outputs": [
    {
     "name": "stdout",
     "output_type": "stream",
     "text": [
      "Coefficient for Treatment is around -1.5888%\n",
      "P-value for Treatment effect is around 0.1319\n"
     ]
    }
   ],
   "source": [
    "# Coefficient (Effect Size) for Treatment\n",
    "treatment_coefficient = lr_model.params[\"treatment\"]\n",
    "# Convert the treatment effect size to a percentage\n",
    "treatment_effect_percentage = treatment_coefficient * 100\n",
    "\n",
    "# P-value for the Treatment effect\n",
    "treatment_pvalue = lr_model.pvalues[\"treatment\"]\n",
    "\n",
    "print(f\"Coefficient for Treatment is around {round(treatment_effect_percentage, 4)}%\")\n",
    "print(f\"P-value for Treatment effect is around {round(treatment_pvalue,4)}\")"
   ]
  },
  {
   "cell_type": "markdown",
   "metadata": {},
   "source": [
    "> I replicated the results from my t test."
   ]
  },
  {
   "attachments": {},
   "cell_type": "markdown",
   "metadata": {},
   "source": [
    "### Exercise 14\n",
    "\n",
    "Now add indicator variables for the date of each observation. Do the standard errors on your `treatment` variable change? If so, in what direction?\n",
    "\n",
    "Store your new standard error in `ex14_se_treatment`. Round your answer to 4 decimal places."
   ]
  },
  {
   "attachments": {},
   "cell_type": "markdown",
   "metadata": {},
   "source": [
    "You should have found that your standard errors decreased by about 30\\%—this is why, although just comparing means *works*, if you have additional variables adding them to your analysis can be helpful (all the usual rules for model specification apply — for example, you still want to be careful about overfitting, which one could argue is maybe part of what's happening here). \n",
    "\n",
    "In many other cases, the effect of adding controls is likely to be larger — the date indicators we added to our data are perfectly balanced between treatment and control, so we aren't adding a lot of data to the model by adding them as variables. They're accounting for some day-to-day variation (presumably in the types of people coming to the site), but they aren't controlling for any residual baseline differences the way a control like \"gender\" or \"age\" might (since those kind of individual-level attributes will never be perfectly balanced across treatment and control). "
   ]
  },
  {
   "cell_type": "code",
   "execution_count": 61,
   "metadata": {},
   "outputs": [],
   "source": [
    "# Convert the \"Date\" column into indicator variables\n",
    "stack_data_new_date_dummies = pd.get_dummies(\n",
    "    stack_data_new, columns=[\"Date\"], drop_first=True\n",
    ")"
   ]
  },
  {
   "cell_type": "code",
   "execution_count": 62,
   "metadata": {},
   "outputs": [],
   "source": [
    "# Prepare the independent variables\n",
    "X_dummies = stack_data_new_date_dummies.drop(\n",
    "    columns=[\n",
    "        \"Pageviews\",\n",
    "        \"Clicks\",\n",
    "        \"Enrollments\",\n",
    "        \"Payments\",\n",
    "        \"Payments_to_Clicks\",\n",
    "        \"OEC\",\n",
    "    ]\n",
    ")\n",
    "\n",
    "# add a constant term for the intercept\n",
    "X_dummies = sm.add_constant(X_dummies)\n",
    "\n",
    "# Prepare the dependent variable OEC\n",
    "y_dummies = stack_data_new_date_dummies[\"OEC\"]"
   ]
  },
  {
   "cell_type": "code",
   "execution_count": 63,
   "metadata": {},
   "outputs": [
    {
     "data": {
      "text/html": [
       "<table class=\"simpletable\">\n",
       "<caption>OLS Regression Results</caption>\n",
       "<tr>\n",
       "  <th>Dep. Variable:</th>           <td>OEC</td>       <th>  R-squared:         </th> <td>   0.806</td>\n",
       "</tr>\n",
       "<tr>\n",
       "  <th>Model:</th>                   <td>OLS</td>       <th>  Adj. R-squared:    </th> <td>   0.602</td>\n",
       "</tr>\n",
       "<tr>\n",
       "  <th>Method:</th>             <td>Least Squares</td>  <th>  F-statistic:       </th> <td>   3.962</td>\n",
       "</tr>\n",
       "<tr>\n",
       "  <th>Date:</th>             <td>Wed, 27 Mar 2024</td> <th>  Prob (F-statistic):</th> <td>0.000978</td>\n",
       "</tr>\n",
       "<tr>\n",
       "  <th>Time:</th>                 <td>19:47:00</td>     <th>  Log-Likelihood:    </th> <td>  126.29</td>\n",
       "</tr>\n",
       "<tr>\n",
       "  <th>No. Observations:</th>      <td>    46</td>      <th>  AIC:               </th> <td>  -204.6</td>\n",
       "</tr>\n",
       "<tr>\n",
       "  <th>Df Residuals:</th>          <td>    22</td>      <th>  BIC:               </th> <td>  -160.7</td>\n",
       "</tr>\n",
       "<tr>\n",
       "  <th>Df Model:</th>              <td>    23</td>      <th>                     </th>     <td> </td>   \n",
       "</tr>\n",
       "<tr>\n",
       "  <th>Covariance Type:</th>      <td>nonrobust</td>    <th>                     </th>     <td> </td>   \n",
       "</tr>\n",
       "</table>\n",
       "<table class=\"simpletable\">\n",
       "<tr>\n",
       "          <td></td>            <th>coef</th>     <th>std err</th>      <th>t</th>      <th>P>|t|</th>  <th>[0.025</th>    <th>0.975]</th>  \n",
       "</tr>\n",
       "<tr>\n",
       "  <th>const</th>            <td>    0.1079</td> <td>    0.016</td> <td>    6.651</td> <td> 0.000</td> <td>    0.074</td> <td>    0.142</td>\n",
       "</tr>\n",
       "<tr>\n",
       "  <th>treatment</th>        <td>   -0.0159</td> <td>    0.007</td> <td>   -2.398</td> <td> 0.025</td> <td>   -0.030</td> <td>   -0.002</td>\n",
       "</tr>\n",
       "<tr>\n",
       "  <th>Date_Fri, Oct 24</th> <td>    0.0445</td> <td>    0.022</td> <td>    1.983</td> <td> 0.060</td> <td>   -0.002</td> <td>    0.091</td>\n",
       "</tr>\n",
       "<tr>\n",
       "  <th>Date_Fri, Oct 31</th> <td>   -0.0074</td> <td>    0.022</td> <td>   -0.331</td> <td> 0.744</td> <td>   -0.054</td> <td>    0.039</td>\n",
       "</tr>\n",
       "<tr>\n",
       "  <th>Date_Mon, Oct 13</th> <td>   -0.0231</td> <td>    0.022</td> <td>   -1.026</td> <td> 0.316</td> <td>   -0.070</td> <td>    0.024</td>\n",
       "</tr>\n",
       "<tr>\n",
       "  <th>Date_Mon, Oct 20</th> <td>   -0.0285</td> <td>    0.022</td> <td>   -1.270</td> <td> 0.217</td> <td>   -0.075</td> <td>    0.018</td>\n",
       "</tr>\n",
       "<tr>\n",
       "  <th>Date_Mon, Oct 27</th> <td>    0.0328</td> <td>    0.022</td> <td>    1.458</td> <td> 0.159</td> <td>   -0.014</td> <td>    0.079</td>\n",
       "</tr>\n",
       "<tr>\n",
       "  <th>Date_Sat, Nov 1</th>  <td>   -0.0235</td> <td>    0.022</td> <td>   -1.047</td> <td> 0.306</td> <td>   -0.070</td> <td>    0.023</td>\n",
       "</tr>\n",
       "<tr>\n",
       "  <th>Date_Sat, Oct 11</th> <td>   -0.0017</td> <td>    0.022</td> <td>   -0.074</td> <td> 0.941</td> <td>   -0.048</td> <td>    0.045</td>\n",
       "</tr>\n",
       "<tr>\n",
       "  <th>Date_Sat, Oct 18</th> <td>   -0.0438</td> <td>    0.022</td> <td>   -1.950</td> <td> 0.064</td> <td>   -0.090</td> <td>    0.003</td>\n",
       "</tr>\n",
       "<tr>\n",
       "  <th>Date_Sat, Oct 25</th> <td>   -0.0309</td> <td>    0.022</td> <td>   -1.375</td> <td> 0.183</td> <td>   -0.077</td> <td>    0.016</td>\n",
       "</tr>\n",
       "<tr>\n",
       "  <th>Date_Sun, Nov 2</th>  <td>    0.0549</td> <td>    0.022</td> <td>    2.441</td> <td> 0.023</td> <td>    0.008</td> <td>    0.101</td>\n",
       "</tr>\n",
       "<tr>\n",
       "  <th>Date_Sun, Oct 12</th> <td>   -0.0347</td> <td>    0.022</td> <td>   -1.542</td> <td> 0.137</td> <td>   -0.081</td> <td>    0.012</td>\n",
       "</tr>\n",
       "<tr>\n",
       "  <th>Date_Sun, Oct 19</th> <td>   -0.0178</td> <td>    0.022</td> <td>   -0.791</td> <td> 0.437</td> <td>   -0.064</td> <td>    0.029</td>\n",
       "</tr>\n",
       "<tr>\n",
       "  <th>Date_Sun, Oct 26</th> <td>   -0.0222</td> <td>    0.022</td> <td>   -0.989</td> <td> 0.333</td> <td>   -0.069</td> <td>    0.024</td>\n",
       "</tr>\n",
       "<tr>\n",
       "  <th>Date_Thu, Oct 16</th> <td>   -0.0228</td> <td>    0.022</td> <td>   -1.016</td> <td> 0.321</td> <td>   -0.069</td> <td>    0.024</td>\n",
       "</tr>\n",
       "<tr>\n",
       "  <th>Date_Thu, Oct 23</th> <td>   -0.0046</td> <td>    0.022</td> <td>   -0.203</td> <td> 0.841</td> <td>   -0.051</td> <td>    0.042</td>\n",
       "</tr>\n",
       "<tr>\n",
       "  <th>Date_Thu, Oct 30</th> <td>    0.0588</td> <td>    0.022</td> <td>    2.618</td> <td> 0.016</td> <td>    0.012</td> <td>    0.105</td>\n",
       "</tr>\n",
       "<tr>\n",
       "  <th>Date_Tue, Oct 14</th> <td>   -0.0417</td> <td>    0.022</td> <td>   -1.855</td> <td> 0.077</td> <td>   -0.088</td> <td>    0.005</td>\n",
       "</tr>\n",
       "<tr>\n",
       "  <th>Date_Tue, Oct 21</th> <td>   -0.0059</td> <td>    0.022</td> <td>   -0.260</td> <td> 0.797</td> <td>   -0.052</td> <td>    0.041</td>\n",
       "</tr>\n",
       "<tr>\n",
       "  <th>Date_Tue, Oct 28</th> <td>   -0.0287</td> <td>    0.022</td> <td>   -1.276</td> <td> 0.215</td> <td>   -0.075</td> <td>    0.018</td>\n",
       "</tr>\n",
       "<tr>\n",
       "  <th>Date_Wed, Oct 15</th> <td>   -0.0132</td> <td>    0.022</td> <td>   -0.588</td> <td> 0.562</td> <td>   -0.060</td> <td>    0.033</td>\n",
       "</tr>\n",
       "<tr>\n",
       "  <th>Date_Wed, Oct 22</th> <td>   -0.0220</td> <td>    0.022</td> <td>   -0.980</td> <td> 0.338</td> <td>   -0.069</td> <td>    0.025</td>\n",
       "</tr>\n",
       "<tr>\n",
       "  <th>Date_Wed, Oct 29</th> <td>    0.0466</td> <td>    0.022</td> <td>    2.076</td> <td> 0.050</td> <td> 4.77e-05</td> <td>    0.093</td>\n",
       "</tr>\n",
       "</table>\n",
       "<table class=\"simpletable\">\n",
       "<tr>\n",
       "  <th>Omnibus:</th>       <td> 3.871</td> <th>  Durbin-Watson:     </th> <td>   1.863</td>\n",
       "</tr>\n",
       "<tr>\n",
       "  <th>Prob(Omnibus):</th> <td> 0.144</td> <th>  Jarque-Bera (JB):  </th> <td>   3.826</td>\n",
       "</tr>\n",
       "<tr>\n",
       "  <th>Skew:</th>          <td> 0.000</td> <th>  Prob(JB):          </th> <td>   0.148</td>\n",
       "</tr>\n",
       "<tr>\n",
       "  <th>Kurtosis:</th>      <td> 4.413</td> <th>  Cond. No.          </th> <td>    27.3</td>\n",
       "</tr>\n",
       "</table><br/><br/>Notes:<br/>[1] Standard Errors assume that the covariance matrix of the errors is correctly specified."
      ],
      "text/latex": [
       "\\begin{center}\n",
       "\\begin{tabular}{lclc}\n",
       "\\toprule\n",
       "\\textbf{Dep. Variable:}    &       OEC        & \\textbf{  R-squared:         } &     0.806   \\\\\n",
       "\\textbf{Model:}            &       OLS        & \\textbf{  Adj. R-squared:    } &     0.602   \\\\\n",
       "\\textbf{Method:}           &  Least Squares   & \\textbf{  F-statistic:       } &     3.962   \\\\\n",
       "\\textbf{Date:}             & Wed, 27 Mar 2024 & \\textbf{  Prob (F-statistic):} &  0.000978   \\\\\n",
       "\\textbf{Time:}             &     19:47:00     & \\textbf{  Log-Likelihood:    } &    126.29   \\\\\n",
       "\\textbf{No. Observations:} &          46      & \\textbf{  AIC:               } &    -204.6   \\\\\n",
       "\\textbf{Df Residuals:}     &          22      & \\textbf{  BIC:               } &    -160.7   \\\\\n",
       "\\textbf{Df Model:}         &          23      & \\textbf{                     } &             \\\\\n",
       "\\textbf{Covariance Type:}  &    nonrobust     & \\textbf{                     } &             \\\\\n",
       "\\bottomrule\n",
       "\\end{tabular}\n",
       "\\begin{tabular}{lcccccc}\n",
       "                           & \\textbf{coef} & \\textbf{std err} & \\textbf{t} & \\textbf{P$> |$t$|$} & \\textbf{[0.025} & \\textbf{0.975]}  \\\\\n",
       "\\midrule\n",
       "\\textbf{const}             &       0.1079  &        0.016     &     6.651  &         0.000        &        0.074    &        0.142     \\\\\n",
       "\\textbf{treatment}         &      -0.0159  &        0.007     &    -2.398  &         0.025        &       -0.030    &       -0.002     \\\\\n",
       "\\textbf{Date\\_Fri, Oct 24} &       0.0445  &        0.022     &     1.983  &         0.060        &       -0.002    &        0.091     \\\\\n",
       "\\textbf{Date\\_Fri, Oct 31} &      -0.0074  &        0.022     &    -0.331  &         0.744        &       -0.054    &        0.039     \\\\\n",
       "\\textbf{Date\\_Mon, Oct 13} &      -0.0231  &        0.022     &    -1.026  &         0.316        &       -0.070    &        0.024     \\\\\n",
       "\\textbf{Date\\_Mon, Oct 20} &      -0.0285  &        0.022     &    -1.270  &         0.217        &       -0.075    &        0.018     \\\\\n",
       "\\textbf{Date\\_Mon, Oct 27} &       0.0328  &        0.022     &     1.458  &         0.159        &       -0.014    &        0.079     \\\\\n",
       "\\textbf{Date\\_Sat, Nov 1}  &      -0.0235  &        0.022     &    -1.047  &         0.306        &       -0.070    &        0.023     \\\\\n",
       "\\textbf{Date\\_Sat, Oct 11} &      -0.0017  &        0.022     &    -0.074  &         0.941        &       -0.048    &        0.045     \\\\\n",
       "\\textbf{Date\\_Sat, Oct 18} &      -0.0438  &        0.022     &    -1.950  &         0.064        &       -0.090    &        0.003     \\\\\n",
       "\\textbf{Date\\_Sat, Oct 25} &      -0.0309  &        0.022     &    -1.375  &         0.183        &       -0.077    &        0.016     \\\\\n",
       "\\textbf{Date\\_Sun, Nov 2}  &       0.0549  &        0.022     &     2.441  &         0.023        &        0.008    &        0.101     \\\\\n",
       "\\textbf{Date\\_Sun, Oct 12} &      -0.0347  &        0.022     &    -1.542  &         0.137        &       -0.081    &        0.012     \\\\\n",
       "\\textbf{Date\\_Sun, Oct 19} &      -0.0178  &        0.022     &    -0.791  &         0.437        &       -0.064    &        0.029     \\\\\n",
       "\\textbf{Date\\_Sun, Oct 26} &      -0.0222  &        0.022     &    -0.989  &         0.333        &       -0.069    &        0.024     \\\\\n",
       "\\textbf{Date\\_Thu, Oct 16} &      -0.0228  &        0.022     &    -1.016  &         0.321        &       -0.069    &        0.024     \\\\\n",
       "\\textbf{Date\\_Thu, Oct 23} &      -0.0046  &        0.022     &    -0.203  &         0.841        &       -0.051    &        0.042     \\\\\n",
       "\\textbf{Date\\_Thu, Oct 30} &       0.0588  &        0.022     &     2.618  &         0.016        &        0.012    &        0.105     \\\\\n",
       "\\textbf{Date\\_Tue, Oct 14} &      -0.0417  &        0.022     &    -1.855  &         0.077        &       -0.088    &        0.005     \\\\\n",
       "\\textbf{Date\\_Tue, Oct 21} &      -0.0059  &        0.022     &    -0.260  &         0.797        &       -0.052    &        0.041     \\\\\n",
       "\\textbf{Date\\_Tue, Oct 28} &      -0.0287  &        0.022     &    -1.276  &         0.215        &       -0.075    &        0.018     \\\\\n",
       "\\textbf{Date\\_Wed, Oct 15} &      -0.0132  &        0.022     &    -0.588  &         0.562        &       -0.060    &        0.033     \\\\\n",
       "\\textbf{Date\\_Wed, Oct 22} &      -0.0220  &        0.022     &    -0.980  &         0.338        &       -0.069    &        0.025     \\\\\n",
       "\\textbf{Date\\_Wed, Oct 29} &       0.0466  &        0.022     &     2.076  &         0.050        &     4.77e-05    &        0.093     \\\\\n",
       "\\bottomrule\n",
       "\\end{tabular}\n",
       "\\begin{tabular}{lclc}\n",
       "\\textbf{Omnibus:}       &  3.871 & \\textbf{  Durbin-Watson:     } &    1.863  \\\\\n",
       "\\textbf{Prob(Omnibus):} &  0.144 & \\textbf{  Jarque-Bera (JB):  } &    3.826  \\\\\n",
       "\\textbf{Skew:}          &  0.000 & \\textbf{  Prob(JB):          } &    0.148  \\\\\n",
       "\\textbf{Kurtosis:}      &  4.413 & \\textbf{  Cond. No.          } &     27.3  \\\\\n",
       "\\bottomrule\n",
       "\\end{tabular}\n",
       "%\\caption{OLS Regression Results}\n",
       "\\end{center}\n",
       "\n",
       "Notes: \\newline\n",
       " [1] Standard Errors assume that the covariance matrix of the errors is correctly specified."
      ],
      "text/plain": [
       "<class 'statsmodels.iolib.summary.Summary'>\n",
       "\"\"\"\n",
       "                            OLS Regression Results                            \n",
       "==============================================================================\n",
       "Dep. Variable:                    OEC   R-squared:                       0.806\n",
       "Model:                            OLS   Adj. R-squared:                  0.602\n",
       "Method:                 Least Squares   F-statistic:                     3.962\n",
       "Date:                Wed, 27 Mar 2024   Prob (F-statistic):           0.000978\n",
       "Time:                        19:47:00   Log-Likelihood:                 126.29\n",
       "No. Observations:                  46   AIC:                            -204.6\n",
       "Df Residuals:                      22   BIC:                            -160.7\n",
       "Df Model:                          23                                         \n",
       "Covariance Type:            nonrobust                                         \n",
       "====================================================================================\n",
       "                       coef    std err          t      P>|t|      [0.025      0.975]\n",
       "------------------------------------------------------------------------------------\n",
       "const                0.1079      0.016      6.651      0.000       0.074       0.142\n",
       "treatment           -0.0159      0.007     -2.398      0.025      -0.030      -0.002\n",
       "Date_Fri, Oct 24     0.0445      0.022      1.983      0.060      -0.002       0.091\n",
       "Date_Fri, Oct 31    -0.0074      0.022     -0.331      0.744      -0.054       0.039\n",
       "Date_Mon, Oct 13    -0.0231      0.022     -1.026      0.316      -0.070       0.024\n",
       "Date_Mon, Oct 20    -0.0285      0.022     -1.270      0.217      -0.075       0.018\n",
       "Date_Mon, Oct 27     0.0328      0.022      1.458      0.159      -0.014       0.079\n",
       "Date_Sat, Nov 1     -0.0235      0.022     -1.047      0.306      -0.070       0.023\n",
       "Date_Sat, Oct 11    -0.0017      0.022     -0.074      0.941      -0.048       0.045\n",
       "Date_Sat, Oct 18    -0.0438      0.022     -1.950      0.064      -0.090       0.003\n",
       "Date_Sat, Oct 25    -0.0309      0.022     -1.375      0.183      -0.077       0.016\n",
       "Date_Sun, Nov 2      0.0549      0.022      2.441      0.023       0.008       0.101\n",
       "Date_Sun, Oct 12    -0.0347      0.022     -1.542      0.137      -0.081       0.012\n",
       "Date_Sun, Oct 19    -0.0178      0.022     -0.791      0.437      -0.064       0.029\n",
       "Date_Sun, Oct 26    -0.0222      0.022     -0.989      0.333      -0.069       0.024\n",
       "Date_Thu, Oct 16    -0.0228      0.022     -1.016      0.321      -0.069       0.024\n",
       "Date_Thu, Oct 23    -0.0046      0.022     -0.203      0.841      -0.051       0.042\n",
       "Date_Thu, Oct 30     0.0588      0.022      2.618      0.016       0.012       0.105\n",
       "Date_Tue, Oct 14    -0.0417      0.022     -1.855      0.077      -0.088       0.005\n",
       "Date_Tue, Oct 21    -0.0059      0.022     -0.260      0.797      -0.052       0.041\n",
       "Date_Tue, Oct 28    -0.0287      0.022     -1.276      0.215      -0.075       0.018\n",
       "Date_Wed, Oct 15    -0.0132      0.022     -0.588      0.562      -0.060       0.033\n",
       "Date_Wed, Oct 22    -0.0220      0.022     -0.980      0.338      -0.069       0.025\n",
       "Date_Wed, Oct 29     0.0466      0.022      2.076      0.050    4.77e-05       0.093\n",
       "==============================================================================\n",
       "Omnibus:                        3.871   Durbin-Watson:                   1.863\n",
       "Prob(Omnibus):                  0.144   Jarque-Bera (JB):                3.826\n",
       "Skew:                           0.000   Prob(JB):                        0.148\n",
       "Kurtosis:                       4.413   Cond. No.                         27.3\n",
       "==============================================================================\n",
       "\n",
       "Notes:\n",
       "[1] Standard Errors assume that the covariance matrix of the errors is correctly specified.\n",
       "\"\"\""
      ]
     },
     "execution_count": 63,
     "metadata": {},
     "output_type": "execute_result"
    }
   ],
   "source": [
    "# Fit the linear regression model\n",
    "lr_model_with_date = sm.OLS(y_dummies, X_dummies.astype(float)).fit()\n",
    "\n",
    "# Display the model summary\n",
    "linear_regression_model_summary_dummies = lr_model_with_date.summary()\n",
    "linear_regression_model_summary_dummies"
   ]
  },
  {
   "cell_type": "code",
   "execution_count": 64,
   "metadata": {},
   "outputs": [
    {
     "name": "stdout",
     "output_type": "stream",
     "text": [
      "the standard error for the treatment variable is around 0.0066\n"
     ]
    }
   ],
   "source": [
    "# Extract the standard error for the treatment variable\n",
    "se_treatment_with_date = lr_model_with_date.bse[\"treatment\"]\n",
    "\n",
    "ex14_se_treatment = round(se_treatment_with_date, 4)\n",
    "print(f\"the standard error for the treatment variable is around {ex14_se_treatment}\")\n",
    "results[\"ex14_se_treatment\"] = ex14_se_treatment"
   ]
  },
  {
   "cell_type": "markdown",
   "metadata": {},
   "source": [
    "> The standard error on my treatment variable changed from 0.010 to 0.0066 after adding indicator variables for the date of each observation in the linear regression model. It becomes smaller than before (decreased by about 30%)."
   ]
  },
  {
   "attachments": {},
   "cell_type": "markdown",
   "metadata": {},
   "source": [
    "### Exercise 15\n",
    "\n",
    "Does this result have any impact on the recommendations you would offer Udacity?"
   ]
  },
  {
   "cell_type": "markdown",
   "metadata": {},
   "source": [
    ">- After adding indicator variables for the date of each observation in the linear regression model, the p value changed from 0.1319 to 0.025. The Average Treatment Effect (ATE) for the OEC is −1.5888%, suggesting a decrease in the gap between enrollments and payments when normalized by the number of clicks, which could indicate a higher enrollment to payment conversion rate. The change in OEC is statistically significant since p-value < 0.05. Therefore, I think Udacity achieved their goal.  \n",
    ">- I would recommend Udacity to cautiously implement this intervention. While it shows a statistically significant positive impact on OEC, Udacity should still evaluate its practical significance before rolling out the intervention to every users. This intervention might set clearer expectations for students upfront, thus reducing the number of frustrated students who left the free trial because they didn't have enough time."
   ]
  },
  {
   "cell_type": "code",
   "execution_count": 65,
   "metadata": {},
   "outputs": [],
   "source": [
    "# results"
   ]
  },
  {
   "cell_type": "code",
   "execution_count": 66,
   "metadata": {},
   "outputs": [],
   "source": [
    "assert set(results.keys()) == {\n",
    "    \"ex4_avg_oec\",\n",
    "    \"ex5_avg_guardrail\",\n",
    "    \"ex7_ttest_pvalue\",\n",
    "    \"ex9_ttest_pvalue_clicks\",\n",
    "    \"ex10_num_obs\",\n",
    "    \"ex11_guard_ate\",\n",
    "    \"ex11_guard_pvalue\",\n",
    "    \"ex11_oec_ate\",\n",
    "    \"ex11_oec_pvalue\",\n",
    "    \"ex14_se_treatment\",\n",
    "}"
   ]
  }
 ],
 "metadata": {
  "kernelspec": {
   "display_name": "Python 3",
   "language": "python",
   "name": "python3"
  },
  "language_info": {
   "codemirror_mode": {
    "name": "ipython",
    "version": 3
   },
   "file_extension": ".py",
   "mimetype": "text/x-python",
   "name": "python",
   "nbconvert_exporter": "python",
   "pygments_lexer": "ipython3",
   "version": "3.11.5"
  }
 },
 "nbformat": 4,
 "nbformat_minor": 4
}
